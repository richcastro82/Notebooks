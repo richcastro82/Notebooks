{
 "cells": [
  {
   "cell_type": "markdown",
   "metadata": {},
   "source": [
    "# TAG MATRIX DATA SCRAPER\n",
    "- author: Richard Castro \n",
    "- sticky_rank: 1\n",
    "- toc: true\n",
    "- badges: true\n",
    "- comments: false\n",
    "- categories: [Matrix]\n",
    "- image: images/scraper.jpg"
   ]
  },
  {
   "cell_type": "code",
   "execution_count": 1,
   "metadata": {},
   "outputs": [],
   "source": [
    "import pandas as pd\n",
    "import requests\n",
    "import datetime\n",
    "date=datetime.datetime.now().strftime(\"%Y-%m-%d\")\n",
    "import dash\n",
    "import dash_core_components as dcc"
   ]
  },
  {
   "cell_type": "markdown",
   "metadata": {},
   "source": [
    "# CANADA STUFF"
   ]
  },
  {
   "cell_type": "code",
   "execution_count": null,
   "metadata": {},
   "outputs": [],
   "source": [
    "#SOURCE - https://github.com/eebrown/data2019nCoV\n",
    "df=pd.read_csv('https://raw.githubusercontent.com/eebrown/data2019nCoV/master/data-raw/covid19.csv')\n",
    "df=df.rename(columns={'pruid':'uid', 'prname':'province'})\n",
    "col=['uid', 'province','date', 'numconf', 'numprob',\n",
    "       'numdeaths', 'numtotal', 'numtested', 'numrecover', 'percentrecover',\n",
    "       'ratetested', 'numtoday', 'percentoday', 'ratetotal', 'ratedeaths',\n",
    "       'numdeathstoday', 'percentdeath', 'numtestedtoday', 'numrecoveredtoday',\n",
    "       'percentactive', 'numactive', 'rateactive', 'numtotal_last14',\n",
    "       'ratetotal_last14', 'numdeaths_last14', 'ratedeaths_last14']\n",
    "df_ca=df[col]\n",
    "df_ca.set_index('date', inplace=True)\n",
    "df_ca.to_csv('../data/sources/canada/'+date+'-eeBrown.csv')"
   ]
  },
  {
   "cell_type": "code",
   "execution_count": null,
   "metadata": {},
   "outputs": [],
   "source": [
    "#SOURCE - https://www12.statcan.gc.ca/census-recensement/index-eng.cfm\n",
    "df=pd.read_csv('https://www12.statcan.gc.ca/census-recensement/2016/dp-pd/hlt-fst/pd-pl/Tables/CompFile.cfm?Lang=Eng&T=301&OFT=FULLCSV')\n",
    "df_cacen=df\n",
    "df_cacen.to_csv('../data/sources/canada/'+date+'-ca_census.csv')"
   ]
  },
  {
   "cell_type": "code",
   "execution_count": 10,
   "metadata": {},
   "outputs": [],
   "source": [
    "#SOURCE - ISHABERRY\n",
    "#PROVINCE LEVEL CASE DATA\n",
    "df=pd.read_csv('https://raw.githubusercontent.com/ishaberry/Covid19Canada/master/timeseries_prov/cases_timeseries_prov.csv')\n",
    "df.rename(columns={'date_report':'date'}, inplace=True)\n",
    "df.set_index('date')\n",
    "df_Isha=df\n",
    "df_Isha.to_csv('../data/sources/canada/'+date+'Isha_Prov_Cases.csv')"
   ]
  },
  {
   "cell_type": "code",
   "execution_count": 19,
   "metadata": {},
   "outputs": [],
   "source": [
    "#SOURCE - ISHABERRY\n",
    "#HEALTH REGION LEVEL CASE DATA\n",
    "df=pd.read_csv('https://raw.githubusercontent.com/ishaberry/Covid19Canada/master/timeseries_hr/cases_timeseries_hr.csv')\n",
    "df.rename(columns={'date_report':'date'}, inplace=True)\n",
    "df.set_index('date')\n",
    "df_Isha=df\n",
    "df_Isha.to_csv('../data/sources/canada/'+date+'Isha_HR_Cases.csv')"
   ]
  },
  {
   "cell_type": "code",
   "execution_count": 23,
   "metadata": {},
   "outputs": [],
   "source": [
    "#SOURCE - ISHABERRY\n",
    "#PROVINCE LEVEL TEST DATA\n",
    "df=pd.read_csv('https://raw.githubusercontent.com/ishaberry/Covid19Canada/master/timeseries_prov/testing_timeseries_prov.csv')\n",
    "df.rename(columns={'date_testing':'date'}, inplace=True)\n",
    "df.set_index('date')\n",
    "df_Isha=df\n",
    "df_Isha.to_csv('../data/sources/canada/'+date+'Isha_Province_Testing.csv')"
   ]
  },
  {
   "cell_type": "markdown",
   "metadata": {},
   "source": [
    "# World-o-Meter"
   ]
  },
  {
   "cell_type": "code",
   "execution_count": 24,
   "metadata": {},
   "outputs": [],
   "source": [
    "#WORLD O METER DATA\n",
    "#NEW YORK COUNTY DATA\n",
    "import datetime\n",
    "date=datetime.datetime.now().strftime(\"%Y-%m-%d\")\n",
    "\n",
    "web=requests.get('https://www.worldometers.info/coronavirus/usa/new-york')\n",
    "ny=pd.read_html(web.text)\n",
    "ny=ny[1]\n",
    "ny.columns=map(str.lower, ny.columns)\n",
    "ny.to_csv('../data/sources/worldometer/'+date+'-NY-County-Data.csv')\n",
    "\n",
    "#CALIFORNIA COUNTY DATA\n",
    "cad=requests.get('https://www.worldometers.info/coronavirus/usa/california')\n",
    "ca=pd.read_html(cad.text)\n",
    "ca=ca[1]\n",
    "ca.columns=map(str.lower, ca.columns)\n",
    "ca.to_csv('../data/sources/worldometer/'+date+'-CA-County-Data.csv')\n",
    "\n",
    "#NEW JERSEY COUNTY DATA\n",
    "njd=requests.get('https://www.worldometers.info/coronavirus/usa/new-jersey')\n",
    "nj=pd.read_html(njd.text)\n",
    "nj=nj[1]\n",
    "nj.columns=map(str.lower, nj.columns)\n",
    "nj.to_csv('../data/sources/worldometer/'+date+'-NJ-County-Data.csv')\n",
    "\n",
    "#OHIO COUNTY DATA\n",
    "ohd=requests.get('https://www.worldometers.info/coronavirus/usa/ohio/')\n",
    "oh=pd.read_html(ohd.text)\n",
    "oh=oh[1]\n",
    "oh.columns=map(str.lower, oh.columns)\n",
    "oh.to_csv('../data/sources/worldometer/'+date+'-OH-County-Data.csv')\n",
    "\n",
    "#SOUTH CAROLINA COUNTY DATA\n",
    "scd=requests.get('https://www.worldometers.info/coronavirus/usa/south-carolina/')\n",
    "sc=pd.read_html(scd.text)\n",
    "sc=sc[1]\n",
    "sc.columns=map(str.lower, sc.columns)\n",
    "sc.to_csv('../data/sources/worldometer/'+date+'-SC-County-Data.csv')\n",
    "\n",
    "#PA COUNTY DATA\n",
    "pad=requests.get('https://www.worldometers.info/coronavirus/usa/pennsylvania/')\n",
    "pa=pd.read_html(pad.text)\n",
    "pa=pa[1]\n",
    "pa.columns=map(str.lower, pa.columns)\n",
    "pa.to_csv('../data/sources/worldometer/'+date+'-PA-County-Data.csv')\n",
    "\n",
    "#WASHINGTON COUNTY DATA\n",
    "wad=requests.get('https://www.worldometers.info/coronavirus/usa/washington/')\n",
    "wa=pd.read_html(wad.text)\n",
    "wa=wa[1]\n",
    "wa.columns=map(str.lower, wa.columns)\n",
    "wa.to_csv('../data/sources/worldometer/'+date+'-WA-County-Data.csv')\n",
    "\n",
    "#US STATE LEVEL DATA\n",
    "we=requests.get('https://www.worldometers.info/coronavirus/country/us/')\n",
    "us=pd.read_html(we.text)\n",
    "us=us[1]\n",
    "us.to_csv('../data/sources/worldometer/'+date+'-US-State-Data.csv')"
   ]
  },
  {
   "cell_type": "code",
   "execution_count": null,
   "metadata": {},
   "outputs": [],
   "source": []
  },
  {
   "cell_type": "markdown",
   "metadata": {},
   "source": [
    "# rt live"
   ]
  },
  {
   "cell_type": "code",
   "execution_count": null,
   "metadata": {},
   "outputs": [],
   "source": [
    "rtlive=pd.read_csv('https://d14wlfuexuxgcm.cloudfront.net/covid/rt.csv')\n",
    "rtlive.to_csv('../_data/data_sources/rtlive/rtlive'+date+'.csv')"
   ]
  },
  {
   "cell_type": "markdown",
   "metadata": {},
   "source": [
    "# Mobility Reports\n",
    "\n",
    "<ul>\n",
    "    <li>Google Mobility Reports</li>\n",
    "    <li>Apple Mobility Reports</li>\n",
    "</ul>"
   ]
  },
  {
   "cell_type": "code",
   "execution_count": null,
   "metadata": {},
   "outputs": [],
   "source": [
    "#GOOGLE AND APPLE MOBILITY DATA BY COUNTY \n",
    "#apple=pd.read_csv('https://covid19-static.cdn-apple.com/covid19-mobility-data/2014HotfixDev8/v3/en-us/applemobilitytrends-2020-08-08.csv')\n",
    "#apple.to_csv('../_data/Data_Sources/Mobility_Reports/apple.csv')\n",
    "google=pd.read_csv('https://www.gstatic.com/covid19/mobility/Global_Mobility_Report.csv')\n",
    "google.to_csv('../_data/Data_Sources/google/google.csv')"
   ]
  },
  {
   "cell_type": "markdown",
   "metadata": {},
   "source": [
    "# WORLD-O-METER DATASETS\n",
    "\n",
    "<ul>\n",
    "    <li>NEW YORK\n",
    "    <li>CALIFORNIA\n",
    "    <li>NEW JERSEY\n",
    "    <li>PA\n",
    "    <li>SOUTH CAROLINA\n",
    "    <li>OHIO\n",
    "    <li>WASHINGTON STATE\n",
    "</ul>\n"
   ]
  },
  {
   "cell_type": "code",
   "execution_count": null,
   "metadata": {},
   "outputs": [],
   "source": [
    "healthDepartment=requests.get('https://data.ct.gov/Health-and-Human-Services/COVID-19-Tests-Cases-and-Deaths-By-Town-/28fr-iqnx/data')\n",
    "hd=pd.read_html(healthDepartment.text)"
   ]
  },
  {
   "cell_type": "markdown",
   "metadata": {},
   "source": [
    "# COUNTY HEALTH DEPARTMANT DATASETS\n"
   ]
  },
  {
   "cell_type": "code",
   "execution_count": null,
   "metadata": {},
   "outputs": [],
   "source": [
    "#HEALTH DEPARTMENTS DATA\n",
    "flData=pd.read_csv('https://opendata.arcgis.com/datasets/222c9d85e93540dba523939cfb718d76_0.csv?outSR=%7B%22latestWkid%22%3A4326%2C%22wkid%22%3A4326%7D')\n",
    "flData.to_csv('../_data/Data_Sources/Fl-Data.csv')\n",
    "\n",
    "miData=pd.read_excel('https://www.michigan.gov/documents/coronavirus/Covid-19_Tests_by_County_2020-08-08_698830_7.xlsx')\n",
    "miData.to_csv('../_data/Data_Sources/Health-Department-Data/MI-Tests-County.csv')\n",
    "\n",
    "miData2=pd.read_excel('https://www.michigan.gov/documents/coronavirus/Cases_by_County_and_Date_2020-08-08_698828_7.xlsx')\n",
    "miData2.to_csv('../_data/Data_Sources/Health-Department-Data/MI-Cases-County.csv')\n",
    "\n",
    "miData3=pd.read_excel('https://www.michigan.gov/documents/coronavirus/Cases_and_Deaths_by_County_2020-08-08_698827_7.xlsx')\n",
    "miData3.to_csv('../_data/Data_Sources/Health-Department-Data/MI-Deaths-Cases-County.csv')\n",
    "\n",
    "\n",
    "miData4=pd.read_csv('https://raw.githubusercontent.com/jeffcore/covid-19-usa-by-state/master/COVID-19-Cases-USA-By-County.csv')\n",
    "miData4.to_csv('../_data/Data_Sources/Health-Department-Data/COVID-19-Cases-USA-By-County.csv')\n",
    "\n",
    "miData5=pd.read_csv('https://raw.githubusercontent.com/jeffcore/covid-19-usa-by-state/master/COVID-19-Deaths-USA-By-County.csv')\n",
    "miData5.to_csv('../_data/Data_Sources/Health-Department-Data/COVID-19-Deaths-USA-By-County.csv')\n",
    "\n",
    "miData6=pd.read_csv('https://raw.githubusercontent.com/jeffcore/covid-19-usa-by-state/master/COVID-19-Cases-USA-By-State.csv')\n",
    "miData6.to_csv('../_data/Data_Sources/Health-Department-Data/COVID-19-Cases-USA-By-State.csv')\n",
    "\n",
    "miData7=pd.read_csv('https://raw.githubusercontent.com/jeffcore/covid-19-usa-by-state/master/COVID-19-Deaths-USA-By-State.csv')\n",
    "miData7.to_csv('../_data/Data_Sources/Health-Department-Data/COVID-19-Deaths-USA-By-State.csv')"
   ]
  },
  {
   "cell_type": "code",
   "execution_count": null,
   "metadata": {},
   "outputs": [],
   "source": [
    "#ANOTHER MODULE \n",
    "from bs4 import BeautifulSoup\n",
    "url=requests.get('https://covidactnow.org/us/fl/county/taylor_county?s=846164')\n",
    "soup = BeautifulSoup(requests.get(url).text)\n",
    "soup.findAll(\"table\")[0].findAll(\"tr\")[0]"
   ]
  },
  {
   "cell_type": "markdown",
   "metadata": {},
   "source": [
    "# COVID TRACKER DATA"
   ]
  },
  {
   "cell_type": "code",
   "execution_count": null,
   "metadata": {},
   "outputs": [],
   "source": [
    "#COVID TRACKER DATA\n",
    "\n",
    "da1=pd.read_html('https://covidtracking.com/data/state/alabama')\n",
    "da1[1].to_csv('../_data/Data_Sources/CovidTracker/Alabama.csv')\n",
    "\n",
    "da2=pd.read_html('https://covidtracking.com/data/state/alaska')\n",
    "da2[1].to_csv('../_data/Data_Sources/CovidTracker/Alaska.csv')\n",
    "\n",
    "da3=pd.read_html('https://covidtracking.com/data/state/arizona')\n",
    "da3[1].to_csv('../_data/Data_Sources/CovidTracker/Arizona.csv')\n",
    "\n",
    "AR_COVIDTRACKER=pd.read_html('https://covidtracking.com/data/state/arkansas')\n",
    "AR_COVIDTRACKER[1].to_csv('../_data/data_sources/covidtracker/'+date+'-ARKANSAS.csv')\n",
    "\n",
    "CA_COVIDTRACKER=pd.read_html('https://covidtracking.com/data/state/california')\n",
    "CA_COVIDTRACKER[1].to_csv('../_data/data_sources/covidtracker/'+date+'-CALIFORNIA.csv') \n",
    "\n",
    "GA_COVIDTRACKER=pd.read_html('https://covidtracking.com/data/state/GEORGIA')\n",
    "GA_COVIDTRACKER[1].to_csv('../_data/data_sources/covidtracker/'+date+'-GEORGIA.csv')\n",
    "\n",
    "KS_COVIDTRACKER=pd.read_html('https://covidtracking.com/data/state/KANSAS')\n",
    "KS_COVIDTRACKER[1].to_csv('../_data/data_sources/covidtracker/'+date+'-KANSAS.csv')\n",
    "\n",
    "FL_COVIDTRACKER=pd.read_html('https://covidtracking.com/data/state/FLORIDA')\n",
    "FL_COVIDTRACKER[1].to_csv('../_data/data_sources/covidtracker/'+date+'-FLORIDA.csv')\n",
    "\n",
    "IL_COVIDTRACKER=pd.read_html('https://covidtracking.com/data/state/ILLINOIS')\n",
    "IL_COVIDTRACKER[1].to_csv('../_data/data_sources/covidtracker/'+date+'-ILLINOIS.csv')\n",
    "\n",
    "OH_COVIDTRACKER=pd.read_html('https://covidtracking.com/data/state/OHIO')\n",
    "OH_COVIDTRACKER[1].to_csv('../_data/data_sources/covidtracker/'+date+'-OHIO.csv')\n",
    "\n",
    "TN_COVIDTRACKER=pd.read_html('https://covidtracking.com/data/state/TENNESSEE')\n",
    "TN_COVIDTRACKER[1].to_csv('../_data/data_sources/covidtracker/'+date+'-TENNESSEE.csv')\n",
    "\n",
    "NE_COVIDTRACKER=pd.read_html('https://covidtracking.com/data/state/NEBRASKA')\n",
    "NE_COVIDTRACKER[1].to_csv('../_data/data_sources/covidtracker/'+date+'-NEBRASKA.csv')\n",
    "\n",
    "PA_COVIDTRACKER=pd.read_html('https://covidtracking.com/data/state/PENNSYLVANIA')\n",
    "PA_COVIDTRACKER[1].to_csv('../_data/data_sources/covidtracker/'+date+'-PENNSYLVANIA.csv')\n",
    "\n",
    "NC_COVIDTRACKER=pd.read_html('https://covidtracking.com/data/state/NORTH-CAROLINA')\n",
    "NC_COVIDTRACKER[1].to_csv('../_data/data_sources/covidtracker/'+date+'-NORTHCAROLINA.csv')\n",
    "\n",
    "KY_COVIDTRACKER=pd.read_html('https://covidtracking.com/data/state/KENTUCKY')\n",
    "KY_COVIDTRACKER[1].to_csv('../_data/data_sources/covidtracker/'+date+'-KENTUCKY.csv')\n",
    "\n",
    "CO_COVIDTRACKER=pd.read_html('https://covidtracking.com/data/state/COLORADO')\n",
    "CO_COVIDTRACKER[1].to_csv('../_data/data_sources/covidtracker/'+date+'-COLORADO.csv')\n",
    "\n",
    "KS_COVIDTRACKER=pd.read_html('https://covidtracking.com/data/state/KENTUCKY')\n",
    "KS_COVIDTRACKER[1].to_csv('../_data/data_sources/covidtracker/'+date+'-KENTUCKY.csv')\n",
    "\n",
    "NJ_COVIDTRACKER=pd.read_html('https://covidtracking.com/data/state/NEW-JERSEY')\n",
    "NJ_COVIDTRACKER[1].to_csv('../_data/data_sources/covidtracker/'+date+'-NEWJERSEY.csv')\n",
    "\n",
    "MN_COVIDTRACKER=pd.read_html('https://covidtracking.com/data/state/MINNESOTA')\n",
    "MN_COVIDTRACKER[1].to_csv('../_data/data_sources/covidtracker/'+date+'-MINNESOTA.csv')\n",
    "\n",
    "MI_COVIDTRACKER=pd.read_html('https://covidtracking.com/data/state/MICHIGAN')\n",
    "MI_COVIDTRACKER[1].to_csv('../_data/data_sources/covidtracker/'+date+'-MICHIGAN.csv')"
   ]
  },
  {
   "cell_type": "markdown",
   "metadata": {},
   "source": [
    "# NEW YORK TIMES DATA"
   ]
  },
  {
   "cell_type": "code",
   "execution_count": null,
   "metadata": {},
   "outputs": [],
   "source": [
    "#NEW YORK TIMES DATA\n",
    "MASK_NYT=pd.read_csv('https://raw.githubusercontent.com/nytimes/covid-19-data/master/mask-use/mask-use-by-county.csv')\n",
    "MASK_NYT.to_csv('../_data/data_sources/NYT/MASKUSAGE-'+date+'.csv')\n",
    "\n",
    "CASESDEATHSC_NYT=pd.read_csv('https://raw.githubusercontent.com/nytimes/covid-19-data/master/us-counties.csv')\n",
    "CASESDEATHSC_NYT.to_csv('../_data/data_sources/NYT/CASES-DEATHS-COUNTY-'+date+'.csv')\n",
    "\n",
    "CASESDEATHS_NYT=pd.read_csv('https://raw.githubusercontent.com/nytimes/covid-19-data/master/us-states.csv')\n",
    "CASESDEATHS_NYT.to_csv('../_data/data_sources/NYT/CASES-DEATHS-STATE-'+date+'.csv')\n",
    "\n",
    "CASESDEATHSCD_NYT=pd.read_csv('https://raw.githubusercontent.com/nytimes/covid-19-data/master/live/us-counties.csv')\n",
    "CASESDEATHSCD_NYT.to_csv('../_data/data_sources/NYT/CASES-DEATHS-COUNTY-DAILY-'+date+'.csv')\n",
    "\n",
    "CASESDEATHSD_NYT=pd.read_csv('https://raw.githubusercontent.com/nytimes/covid-19-data/master/live/us-states.csv')\n",
    "CASESDEATHSD_NYT.to_csv('../_data/data_sources/NYT/CASES-DEATHS-STATE-DAILY-'+date+'.csv')\n",
    "\n",
    "EXDEATHS_NYT=pd.read_csv('https://raw.githubusercontent.com/nytimes/covid-19-data/master/excess-deaths/deaths.csv')\n",
    "EXDEATHS_NYT.to_csv('../_data/data_sources/NYT/EXCESS-DEATHS-CITY-'+date+'.csv')"
   ]
  },
  {
   "cell_type": "markdown",
   "metadata": {},
   "source": [
    "# linlab"
   ]
  },
  {
   "cell_type": "code",
   "execution_count": null,
   "metadata": {},
   "outputs": [],
   "source": [
    "LINLAB=pd.read_csv('https://raw.githubusercontent.com/lin-lab/COVID19-Viz/master/clean_data/rt_table_export.csv')\n",
    "LINLAB.to_csv('../_data/data_sources/LINLAB/RTCOUNTYLEVEL-'+date+'.csv')"
   ]
  },
  {
   "cell_type": "code",
   "execution_count": null,
   "metadata": {},
   "outputs": [],
   "source": [
    "wew=requests.get('https://www.geonames.org/statistics/')\n",
    "us=pd.read_html(wew.text)\n",
    "us[1].to_csv('../_data/data_sources/worldCountryPopulations.csv')\n",
    "\n"
   ]
  }
 ],
 "metadata": {
  "kernelspec": {
   "display_name": "Python 3",
   "language": "python",
   "name": "python3"
  },
  "language_info": {
   "codemirror_mode": {
    "name": "ipython",
    "version": 3
   },
   "file_extension": ".py",
   "mimetype": "text/x-python",
   "name": "python",
   "nbconvert_exporter": "python",
   "pygments_lexer": "ipython3",
   "version": "3.8.3"
  }
 },
 "nbformat": 4,
 "nbformat_minor": 4
}
