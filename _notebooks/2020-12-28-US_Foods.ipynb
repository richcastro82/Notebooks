{
 "cells": [
  {
   "cell_type": "markdown",
   "metadata": {},
   "source": [
    "# COVID ACT NOW \n",
    "- toc:true- branch: master\n",
    "- badges: true\n",
    "- comments: true\n",
    "- author: Richard Castro & Ben Miller\n",
    "- image: images/us_foods.png"
   ]
  },
  {
   "cell_type": "code",
   "execution_count": 1,
   "metadata": {},
   "outputs": [],
   "source": [
    "#collapse-hide\n",
    "#IMPORT LIBRARIES\n",
    "import pandas as pd\n",
    "import numpy as py\n",
    "import datetime \n",
    "apiKey = '2edb2afbd2734035a9887a3a3ac1c1a2'\n",
    "from datetime import timedelta\n",
    "dtt=datetime.datetime.now().strftime(\"%Y-%m-%d\")"
   ]
  },
  {
   "cell_type": "code",
   "execution_count": 2,
   "metadata": {},
   "outputs": [
    {
     "name": "stderr",
     "output_type": "stream",
     "text": [
      "<ipython-input-2-12c9487817aa>:3: FutureWarning: The pandas.datetime class is deprecated and will be removed from pandas in a future version. Import from datetime module instead.\n",
      "  d_parser= lambda x: pd.datetime.strptime(x, '%Y-%m-%d')\n"
     ]
    }
   ],
   "source": [
    "#collapse-hide\n",
    "#IMPORT COVIDACTNOW AND SET DATE RANGE\n",
    "\n",
    "d_parser= lambda x: pd.datetime.strptime(x, '%Y-%m-%d')\n",
    "df=pd.read_csv('https://api.covidactnow.org/v2/counties.timeseries.csv?apiKey='+apiKey+'', \n",
    "              parse_dates=['date'], date_parser=d_parser)"
   ]
  },
  {
   "cell_type": "code",
   "execution_count": null,
   "metadata": {},
   "outputs": [],
   "source": [
    "#collapse-hide\n",
    "dff=df\n",
    "newestDate= dff['date'].max\n",
    "firstDate=newestDate()-timedelta(days=1)\n",
    "endDate=firstDate-timedelta(days=30)"
   ]
  },
  {
   "cell_type": "code",
   "execution_count": 4,
   "metadata": {},
   "outputs": [],
   "source": [
    "#collapse-hide\n",
    "#clean data from covidactnow\n",
    "\n",
    "dff=dff.drop(['metrics.infectionRateCI90','metrics.testPositivityRatioDetails', 'metrics.icuHeadroomRatio', \n",
    "          'metrics.icuHeadroomDetails', 'actuals.contactTracers',\n",
    "          'actuals.hospitalBeds.capacity', 'actuals.hospitalBeds.currentUsageTotal',\n",
    "          'actuals.hospitalBeds.currentUsageCovid', 'country', 'lat', 'long',\n",
    "          'actuals.hospitalBeds.typicalUsageRate', 'actuals.icuBeds.capacity', \n",
    "          'actuals.icuBeds.currentUsageTotal','actuals.icuBeds.currentUsageCovid', \n",
    "          'actuals.icuBeds.typicalUsageRate', 'locationId', 'actuals.cases',\n",
    "          'actuals.deaths', 'actuals.positiveTests', 'actuals.negativeTests',\n",
    "          'actuals.newCases','metrics.contactTracerCapacityRatio' ], axis=1)\n",
    "dff=dff.rename(columns={ 'metrics.testPositivityRatio':'tpr',\n",
    "       'metrics.caseDensity':'cr', 'metrics.infectionRate':'rt'})"
   ]
  },
  {
   "cell_type": "code",
   "execution_count": null,
   "metadata": {},
   "outputs": [],
   "source": [
    "#collapse-hide\n",
    "dff.to_csv('Output/'+date+'_CovidActNow.csv')"
   ]
  },
  {
   "cell_type": "code",
   "execution_count": 7,
   "metadata": {},
   "outputs": [],
   "source": [
    "#collapse-hide\n",
    "df3=dff"
   ]
  },
  {
   "cell_type": "code",
   "execution_count": 5,
   "metadata": {},
   "outputs": [
    {
     "ename": "NameError",
     "evalue": "name 'endDate' is not defined",
     "output_type": "error",
     "traceback": [
      "\u001b[1;31m---------------------------------------------------------------------------\u001b[0m",
      "\u001b[1;31mNameError\u001b[0m                                 Traceback (most recent call last)",
      "\u001b[1;32m<ipython-input-5-1cb271ece12d>\u001b[0m in \u001b[0;36m<module>\u001b[1;34m\u001b[0m\n\u001b[1;32m----> 1\u001b[1;33m \u001b[0mmFilter\u001b[0m\u001b[1;33m=\u001b[0m\u001b[1;33m(\u001b[0m\u001b[0mdff\u001b[0m\u001b[1;33m[\u001b[0m\u001b[1;34m'date'\u001b[0m\u001b[1;33m]\u001b[0m\u001b[1;33m>=\u001b[0m\u001b[0mendDate\u001b[0m\u001b[1;33m)\u001b[0m\u001b[1;33m\u001b[0m\u001b[1;33m\u001b[0m\u001b[0m\n\u001b[0m\u001b[0;32m      2\u001b[0m \u001b[0mdf3\u001b[0m\u001b[1;33m=\u001b[0m\u001b[0mdff\u001b[0m\u001b[1;33m.\u001b[0m\u001b[0mloc\u001b[0m\u001b[1;33m[\u001b[0m\u001b[0mmFilter\u001b[0m\u001b[1;33m]\u001b[0m\u001b[1;33m\u001b[0m\u001b[1;33m\u001b[0m\u001b[0m\n\u001b[0;32m      3\u001b[0m \u001b[0mdf3\u001b[0m\u001b[1;33m.\u001b[0m\u001b[0mcolumns\u001b[0m\u001b[1;33m\u001b[0m\u001b[1;33m\u001b[0m\u001b[0m\n",
      "\u001b[1;31mNameError\u001b[0m: name 'endDate' is not defined"
     ]
    }
   ],
   "source": [
    "#collapse-hide\n",
    "mFilter=(dff['date']>=endDate)\n",
    "df3=dff.loc[mFilter]\n",
    "df3.columns"
   ]
  },
  {
   "cell_type": "code",
   "execution_count": 8,
   "metadata": {},
   "outputs": [],
   "source": [
    "#collapse-hide\n",
    "#IMPORT CENSUS DATA AND CLEAN THE DATA\n",
    "census=pd.read_csv('Input/CensusPop.csv')\n",
    "census=census.drop(['state', 'county', 'density', 'area'], axis=1)"
   ]
  },
  {
   "cell_type": "code",
   "execution_count": 9,
   "metadata": {},
   "outputs": [],
   "source": [
    "#collapse-hide\n",
    "#IMPORT GOOGLE DATA AND CLEAN IT UP. \n",
    "g=pd.read_csv('Input/Mobility.csv')\n",
    "\n",
    "g=g.drop(['country_region_code', 'country_region', 'sub_region_1', 'sub_region_2',\n",
    "       'metro_area', 'iso_3166_2_code', \n",
    "       'retail_and_recreation_percent_change_from_baseline',\n",
    "       'grocery_and_pharmacy_percent_change_from_baseline',\n",
    "       'parks_percent_change_from_baseline',\n",
    "       'transit_stations_percent_change_from_baseline',\n",
    "       'workplaces_percent_change_from_baseline'\n",
    "       ], axis=1)\n",
    "\n",
    "g=g.rename(columns={'census_fips_code':'fips', 'residential_percent_change_from_baseline':'mobility'})"
   ]
  },
  {
   "cell_type": "code",
   "execution_count": 10,
   "metadata": {},
   "outputs": [
    {
     "data": {
      "text/plain": [
       "0        2020-02-15\n",
       "1        2020-02-16\n",
       "2        2020-02-17\n",
       "3        2020-02-18\n",
       "4        2020-02-19\n",
       "            ...    \n",
       "741625   2020-11-30\n",
       "741626   2020-12-01\n",
       "741627   2020-12-02\n",
       "741628   2020-12-03\n",
       "741629   2020-12-04\n",
       "Name: date, Length: 741630, dtype: datetime64[ns]"
      ]
     },
     "execution_count": 10,
     "metadata": {},
     "output_type": "execute_result"
    }
   ],
   "source": [
    "#collapse-hide\n",
    "g.date=pd.to_datetime(g.date)\n",
    "g.date"
   ]
  },
  {
   "cell_type": "code",
   "execution_count": 1,
   "metadata": {},
   "outputs": [
    {
     "ename": "NameError",
     "evalue": "name 'g' is not defined",
     "output_type": "error",
     "traceback": [
      "\u001b[1;31m---------------------------------------------------------------------------\u001b[0m",
      "\u001b[1;31mNameError\u001b[0m                                 Traceback (most recent call last)",
      "\u001b[1;32m<ipython-input-1-9d49bf6e29c6>\u001b[0m in \u001b[0;36m<module>\u001b[1;34m\u001b[0m\n\u001b[0;32m      1\u001b[0m \u001b[1;31m#collapse-hide#g=g.set_index('date')\u001b[0m\u001b[1;33m\u001b[0m\u001b[1;33m\u001b[0m\u001b[1;33m\u001b[0m\u001b[0m\n\u001b[1;32m----> 2\u001b[1;33m \u001b[0mg3\u001b[0m\u001b[1;33m=\u001b[0m\u001b[0mg\u001b[0m\u001b[1;33m\u001b[0m\u001b[1;33m\u001b[0m\u001b[0m\n\u001b[0m",
      "\u001b[1;31mNameError\u001b[0m: name 'g' is not defined"
     ]
    }
   ],
   "source": [
    "#collapse-hide\n",
    "#g=g.set_index('date')\n",
    "g3=g"
   ]
  },
  {
   "cell_type": "code",
   "execution_count": null,
   "metadata": {},
   "outputs": [],
   "source": [
    "#collapse-hide\n",
    "gFilter=(g3['date']>=endDate)\n",
    "g3=g3.loc[gFilter]\n",
    "g3"
   ]
  },
  {
   "cell_type": "code",
   "execution_count": 12,
   "metadata": {},
   "outputs": [
    {
     "data": {
      "text/html": [
       "<div>\n",
       "<style scoped>\n",
       "    .dataframe tbody tr th:only-of-type {\n",
       "        vertical-align: middle;\n",
       "    }\n",
       "\n",
       "    .dataframe tbody tr th {\n",
       "        vertical-align: top;\n",
       "    }\n",
       "\n",
       "    .dataframe thead th {\n",
       "        text-align: right;\n",
       "    }\n",
       "</style>\n",
       "<table border=\"1\" class=\"dataframe\">\n",
       "  <thead>\n",
       "    <tr style=\"text-align: right;\">\n",
       "      <th></th>\n",
       "      <th>date</th>\n",
       "      <th>state</th>\n",
       "      <th>county</th>\n",
       "      <th>fips</th>\n",
       "      <th>tpr</th>\n",
       "      <th>cr</th>\n",
       "      <th>rt</th>\n",
       "      <th>metrics.icuCapacityRatio</th>\n",
       "      <th>riskLevels.overall</th>\n",
       "      <th>pop</th>\n",
       "    </tr>\n",
       "  </thead>\n",
       "  <tbody>\n",
       "    <tr>\n",
       "      <th>0</th>\n",
       "      <td>2020-01-22</td>\n",
       "      <td>AK</td>\n",
       "      <td>Aleutians East Borough</td>\n",
       "      <td>2013</td>\n",
       "      <td>NaN</td>\n",
       "      <td>0.0</td>\n",
       "      <td>NaN</td>\n",
       "      <td>NaN</td>\n",
       "      <td>0</td>\n",
       "      <td>2938.0</td>\n",
       "    </tr>\n",
       "    <tr>\n",
       "      <th>1</th>\n",
       "      <td>2020-01-23</td>\n",
       "      <td>AK</td>\n",
       "      <td>Aleutians East Borough</td>\n",
       "      <td>2013</td>\n",
       "      <td>NaN</td>\n",
       "      <td>0.0</td>\n",
       "      <td>NaN</td>\n",
       "      <td>NaN</td>\n",
       "      <td>0</td>\n",
       "      <td>2938.0</td>\n",
       "    </tr>\n",
       "    <tr>\n",
       "      <th>2</th>\n",
       "      <td>2020-01-24</td>\n",
       "      <td>AK</td>\n",
       "      <td>Aleutians East Borough</td>\n",
       "      <td>2013</td>\n",
       "      <td>NaN</td>\n",
       "      <td>0.0</td>\n",
       "      <td>NaN</td>\n",
       "      <td>NaN</td>\n",
       "      <td>0</td>\n",
       "      <td>2938.0</td>\n",
       "    </tr>\n",
       "    <tr>\n",
       "      <th>3</th>\n",
       "      <td>2020-01-25</td>\n",
       "      <td>AK</td>\n",
       "      <td>Aleutians East Borough</td>\n",
       "      <td>2013</td>\n",
       "      <td>NaN</td>\n",
       "      <td>0.0</td>\n",
       "      <td>NaN</td>\n",
       "      <td>NaN</td>\n",
       "      <td>0</td>\n",
       "      <td>2938.0</td>\n",
       "    </tr>\n",
       "    <tr>\n",
       "      <th>4</th>\n",
       "      <td>2020-01-26</td>\n",
       "      <td>AK</td>\n",
       "      <td>Aleutians East Borough</td>\n",
       "      <td>2013</td>\n",
       "      <td>NaN</td>\n",
       "      <td>0.0</td>\n",
       "      <td>NaN</td>\n",
       "      <td>NaN</td>\n",
       "      <td>0</td>\n",
       "      <td>2938.0</td>\n",
       "    </tr>\n",
       "  </tbody>\n",
       "</table>\n",
       "</div>"
      ],
      "text/plain": [
       "        date state                  county  fips  tpr   cr  rt  \\\n",
       "0 2020-01-22    AK  Aleutians East Borough  2013  NaN  0.0 NaN   \n",
       "1 2020-01-23    AK  Aleutians East Borough  2013  NaN  0.0 NaN   \n",
       "2 2020-01-24    AK  Aleutians East Borough  2013  NaN  0.0 NaN   \n",
       "3 2020-01-25    AK  Aleutians East Borough  2013  NaN  0.0 NaN   \n",
       "4 2020-01-26    AK  Aleutians East Borough  2013  NaN  0.0 NaN   \n",
       "\n",
       "   metrics.icuCapacityRatio  riskLevels.overall     pop  \n",
       "0                       NaN                   0  2938.0  \n",
       "1                       NaN                   0  2938.0  \n",
       "2                       NaN                   0  2938.0  \n",
       "3                       NaN                   0  2938.0  \n",
       "4                       NaN                   0  2938.0  "
      ]
     },
     "execution_count": 12,
     "metadata": {},
     "output_type": "execute_result"
    }
   ],
   "source": [
    "#collapse-hide\n",
    "dfm=pd.merge(df3, census, on='fips', how='left')\n",
    "dfm.head()"
   ]
  },
  {
   "cell_type": "code",
   "execution_count": 13,
   "metadata": {},
   "outputs": [
    {
     "data": {
      "text/html": [
       "<div>\n",
       "<style scoped>\n",
       "    .dataframe tbody tr th:only-of-type {\n",
       "        vertical-align: middle;\n",
       "    }\n",
       "\n",
       "    .dataframe tbody tr th {\n",
       "        vertical-align: top;\n",
       "    }\n",
       "\n",
       "    .dataframe thead th {\n",
       "        text-align: right;\n",
       "    }\n",
       "</style>\n",
       "<table border=\"1\" class=\"dataframe\">\n",
       "  <thead>\n",
       "    <tr style=\"text-align: right;\">\n",
       "      <th></th>\n",
       "      <th>date</th>\n",
       "      <th>state</th>\n",
       "      <th>county</th>\n",
       "      <th>fips</th>\n",
       "      <th>tpr</th>\n",
       "      <th>cr</th>\n",
       "      <th>rt</th>\n",
       "      <th>metrics.icuCapacityRatio</th>\n",
       "      <th>riskLevels.overall</th>\n",
       "      <th>pop</th>\n",
       "      <th>mobility</th>\n",
       "    </tr>\n",
       "  </thead>\n",
       "  <tbody>\n",
       "    <tr>\n",
       "      <th>0</th>\n",
       "      <td>2020-01-22</td>\n",
       "      <td>AK</td>\n",
       "      <td>Aleutians East Borough</td>\n",
       "      <td>2013</td>\n",
       "      <td>NaN</td>\n",
       "      <td>0.0</td>\n",
       "      <td>NaN</td>\n",
       "      <td>NaN</td>\n",
       "      <td>0</td>\n",
       "      <td>2938.0</td>\n",
       "      <td>NaN</td>\n",
       "    </tr>\n",
       "    <tr>\n",
       "      <th>1</th>\n",
       "      <td>2020-01-23</td>\n",
       "      <td>AK</td>\n",
       "      <td>Aleutians East Borough</td>\n",
       "      <td>2013</td>\n",
       "      <td>NaN</td>\n",
       "      <td>0.0</td>\n",
       "      <td>NaN</td>\n",
       "      <td>NaN</td>\n",
       "      <td>0</td>\n",
       "      <td>2938.0</td>\n",
       "      <td>NaN</td>\n",
       "    </tr>\n",
       "    <tr>\n",
       "      <th>2</th>\n",
       "      <td>2020-01-24</td>\n",
       "      <td>AK</td>\n",
       "      <td>Aleutians East Borough</td>\n",
       "      <td>2013</td>\n",
       "      <td>NaN</td>\n",
       "      <td>0.0</td>\n",
       "      <td>NaN</td>\n",
       "      <td>NaN</td>\n",
       "      <td>0</td>\n",
       "      <td>2938.0</td>\n",
       "      <td>NaN</td>\n",
       "    </tr>\n",
       "    <tr>\n",
       "      <th>3</th>\n",
       "      <td>2020-01-25</td>\n",
       "      <td>AK</td>\n",
       "      <td>Aleutians East Borough</td>\n",
       "      <td>2013</td>\n",
       "      <td>NaN</td>\n",
       "      <td>0.0</td>\n",
       "      <td>NaN</td>\n",
       "      <td>NaN</td>\n",
       "      <td>0</td>\n",
       "      <td>2938.0</td>\n",
       "      <td>NaN</td>\n",
       "    </tr>\n",
       "    <tr>\n",
       "      <th>4</th>\n",
       "      <td>2020-01-26</td>\n",
       "      <td>AK</td>\n",
       "      <td>Aleutians East Borough</td>\n",
       "      <td>2013</td>\n",
       "      <td>NaN</td>\n",
       "      <td>0.0</td>\n",
       "      <td>NaN</td>\n",
       "      <td>NaN</td>\n",
       "      <td>0</td>\n",
       "      <td>2938.0</td>\n",
       "      <td>NaN</td>\n",
       "    </tr>\n",
       "  </tbody>\n",
       "</table>\n",
       "</div>"
      ],
      "text/plain": [
       "        date state                  county  fips  tpr   cr  rt  \\\n",
       "0 2020-01-22    AK  Aleutians East Borough  2013  NaN  0.0 NaN   \n",
       "1 2020-01-23    AK  Aleutians East Borough  2013  NaN  0.0 NaN   \n",
       "2 2020-01-24    AK  Aleutians East Borough  2013  NaN  0.0 NaN   \n",
       "3 2020-01-25    AK  Aleutians East Borough  2013  NaN  0.0 NaN   \n",
       "4 2020-01-26    AK  Aleutians East Borough  2013  NaN  0.0 NaN   \n",
       "\n",
       "   metrics.icuCapacityRatio  riskLevels.overall     pop  mobility  \n",
       "0                       NaN                   0  2938.0       NaN  \n",
       "1                       NaN                   0  2938.0       NaN  \n",
       "2                       NaN                   0  2938.0       NaN  \n",
       "3                       NaN                   0  2938.0       NaN  \n",
       "4                       NaN                   0  2938.0       NaN  "
      ]
     },
     "execution_count": 13,
     "metadata": {},
     "output_type": "execute_result"
    }
   ],
   "source": [
    "#collapse-hide\n",
    "dfm2=pd.merge(dfm, g3, how='left', on=['fips', 'date'])\n",
    "dfm2.head()"
   ]
  },
  {
   "cell_type": "code",
   "execution_count": 14,
   "metadata": {},
   "outputs": [],
   "source": [
    "#collapse-hide\n",
    "dfm2.drop(columns=['metrics.icuCapacityRatio', 'riskLevels.overall'], inplace=True)"
   ]
  },
  {
   "cell_type": "code",
   "execution_count": 15,
   "metadata": {},
   "outputs": [
    {
     "data": {
      "text/plain": [
       "Index(['date', 'state', 'county', 'fips', 'tpr', 'cr', 'rt', 'pop',\n",
       "       'mobility'],\n",
       "      dtype='object')"
      ]
     },
     "execution_count": 15,
     "metadata": {},
     "output_type": "execute_result"
    }
   ],
   "source": [
    "#collapse-hide\n",
    "dfm2.columns"
   ]
  },
  {
   "cell_type": "code",
   "execution_count": 16,
   "metadata": {},
   "outputs": [
    {
     "data": {
      "text/plain": [
       "Index(['date', 'state', 'county', 'fips', 'tpr', 'cr', 'rt', 'pop', 'mobility',\n",
       "       'missing', 'score', 'confidence', 'premath-1', 'premath-2', 'premath-3',\n",
       "       'premath-4', 'postmath-1', 'postmath-2', 'postmath-3', 'postmath-4',\n",
       "       'pop_strata', 'daily', 'weekly', 'change'],\n",
       "      dtype='object')"
      ]
     },
     "execution_count": 16,
     "metadata": {},
     "output_type": "execute_result"
    }
   ],
   "source": [
    "#collapse-hide\n",
    "dfm2['missing']=0\n",
    "dfm2['score']=0\n",
    "dfm2['confidence']=0\n",
    "dfm2['premath-1']=0\n",
    "dfm2['premath-2']=0\n",
    "dfm2['premath-3']=0\n",
    "dfm2['premath-4']=0\n",
    "dfm2['postmath-1']=0\n",
    "dfm2['postmath-2']=0\n",
    "dfm2['postmath-3']=0\n",
    "dfm2['postmath-4']=0\n",
    "dfm2['pop_strata']=0\n",
    "dfm2['daily']=0\n",
    "dfm2['weekly']=0\n",
    "dfm2['change']=0\n",
    "dfm2.columns"
   ]
  },
  {
   "cell_type": "code",
   "execution_count": 17,
   "metadata": {},
   "outputs": [],
   "source": [
    "#collapse-hide\n",
    "dfm2.to_csv('output/'+dtt+'_CountyOutput(all).csv')"
   ]
  }
 ],
 "metadata": {
  "kernelspec": {
   "display_name": "Python 3",
   "language": "python",
   "name": "python3"
  },
  "language_info": {
   "codemirror_mode": {
    "name": "ipython",
    "version": 3
   },
   "file_extension": ".py",
   "mimetype": "text/x-python",
   "name": "python",
   "nbconvert_exporter": "python",
   "pygments_lexer": "ipython3",
   "version": "3.8.5"
  }
 },
 "nbformat": 4,
 "nbformat_minor": 4
}
